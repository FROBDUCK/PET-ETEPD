{
  "nbformat": 4,
  "nbformat_minor": 0,
  "metadata": {
    "colab": {
      "provenance": []
    },
    "kernelspec": {
      "name": "python3",
      "display_name": "Python 3"
    },
    "language_info": {
      "name": "python"
    }
  },
  "cells": [
    {
      "cell_type": "markdown",
      "source": [
        "1.\n",
        "\n"
      ],
      "metadata": {
        "id": "SfquZgWrvHLQ"
      }
    },
    {
      "cell_type": "code",
      "execution_count": 1,
      "metadata": {
        "colab": {
          "base_uri": "https://localhost:8080/"
        },
        "id": "HVOHZn6tvCoQ",
        "outputId": "20473a47-649d-4d67-9df1-a04a1ead370f"
      },
      "outputs": [
        {
          "output_type": "stream",
          "name": "stdout",
          "text": [
            "5 6 11 -1 30 0.8333333333333334\n"
          ]
        }
      ],
      "source": [
        "n1 =  5\n",
        "n2 = 6\n",
        "soma = n1 + n2\n",
        "sub = n1 - n2\n",
        "multi = n1 * n2\n",
        "div = n1 / n2\n",
        "\n",
        "print(n1, n2, soma, sub, multi, div)\n"
      ]
    },
    {
      "cell_type": "markdown",
      "source": [
        "2."
      ],
      "metadata": {
        "id": "BMuaKgKevKjQ"
      }
    },
    {
      "cell_type": "code",
      "source": [
        "idade = int(input(\"digite sua idade\"))\n",
        "\n",
        "print(idade)\n",
        "\n",
        "if(idade <= 12):\n",
        "    print(\"criança\")\n",
        "elif(idade >= 13 and idade <= 17):\n",
        "    print(\"adolescente\")\n",
        "elif(idade >= 18):\n",
        "    print(\"adulto\")"
      ],
      "metadata": {
        "colab": {
          "base_uri": "https://localhost:8080/"
        },
        "id": "qCcDbmPyvQnn",
        "outputId": "ad9eef3b-3185-455d-fa4b-c32a53270234"
      },
      "execution_count": 2,
      "outputs": [
        {
          "output_type": "stream",
          "name": "stdout",
          "text": [
            "digite sua idade13\n",
            "13\n",
            "adolescente\n"
          ]
        }
      ]
    },
    {
      "cell_type": "markdown",
      "source": [
        "3."
      ],
      "metadata": {
        "id": "NwbI282mve3Q"
      }
    },
    {
      "cell_type": "code",
      "source": [
        "tempo = int(input(\"quanto tempo?\"))\n",
        "velocidade = int(input(\"qual a velocidade media?\"))\n",
        "distancia = tempo * velocidade\n",
        "litros_usados = distancia / 12\n",
        "\n",
        "print(print(\"tempo:\", tempo, \"velocidade:\", velocidade, \"distancia:\", distancia, \"litros usados:\"),\n",
        "litros_usados)"
      ],
      "metadata": {
        "colab": {
          "base_uri": "https://localhost:8080/"
        },
        "id": "JWUxIFe0vTLa",
        "outputId": "14a7462c-39d2-43b4-961d-fcaeb6fb7ff4"
      },
      "execution_count": 5,
      "outputs": [
        {
          "output_type": "stream",
          "name": "stdout",
          "text": [
            "quanto tempo?10\n",
            "qual a velocidade media?20\n",
            "tempo: 10 velocidade: 20 distancia: 200 litros usados:\n",
            "None 16.666666666666668\n"
          ]
        }
      ]
    }
  ]
}