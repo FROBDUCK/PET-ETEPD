{
 "cells": [
  {
   "cell_type": "markdown",
   "metadata": {},
   "source": [
    "**1.Faça um Programa que mostre a mensagem \"Alô mundo\" na tela\"**\n"
   ]
  },
  {
   "cell_type": "code",
   "execution_count": 4,
   "metadata": {},
   "outputs": [
    {
     "name": "stdout",
     "output_type": "stream",
     "text": [
      "alo mundo\n"
     ]
    }
   ],
   "source": [
    "print(\"alo mundo\")"
   ]
  },
  {
   "cell_type": "markdown",
   "metadata": {},
   "source": [
    "**2.Faça um programa que peça um número e então mostre a mensagem \"O número informado foi [número]**"
   ]
  },
  {
   "cell_type": "code",
   "execution_count": 5,
   "metadata": {},
   "outputs": [
    {
     "name": "stdout",
     "output_type": "stream",
     "text": [
      "o numero informado foi 10\n"
     ]
    }
   ],
   "source": [
    "n = int(input(\"digite um numero\"))\n",
    "print(\"o numero informado foi\" , n)"
   ]
  },
  {
   "cell_type": "markdown",
   "metadata": {},
   "source": [
    "**3. Faça um programa que peça dois numeros e imprima a soma**"
   ]
  },
  {
   "cell_type": "code",
   "execution_count": 6,
   "metadata": {},
   "outputs": [
    {
     "name": "stdout",
     "output_type": "stream",
     "text": [
      "a soma dos numeros é:  3\n"
     ]
    }
   ],
   "source": [
    "n = int(input(\"digite um numero\"))\n",
    "n2 = int(input(\"digita um segundo numero\"))\n",
    "print(\"a soma dos numeros é: \", n+n2)"
   ]
  },
  {
   "cell_type": "markdown",
   "metadata": {},
   "source": [
    "**4. Faça um programa que peça dois numeros e imprima o maior deles**"
   ]
  },
  {
   "cell_type": "code",
   "execution_count": 9,
   "metadata": {},
   "outputs": [
    {
     "name": "stdout",
     "output_type": "stream",
     "text": [
      "15\n"
     ]
    }
   ],
   "source": [
    "n = int(input(\"digite um numero\"))\n",
    "n2 = int(input(\"digita um segundo numero\"))\n",
    "\n",
    "if(n>n2):\n",
    "    print(n)\n",
    "else:\n",
    "    print(n2)"
   ]
  },
  {
   "cell_type": "markdown",
   "metadata": {},
   "source": [
    "**5.Faça um Programa que peça um valor e mostre na tela se o valor é positivo ou negativo**"
   ]
  },
  {
   "cell_type": "code",
   "execution_count": 11,
   "metadata": {},
   "outputs": [
    {
     "name": "stdout",
     "output_type": "stream",
     "text": [
      "esse numero é negativo\n"
     ]
    }
   ],
   "source": [
    "n = int(input(\"digite um numero\"))\n",
    "if(n>=0):\n",
    "    print(\"esse numero é positivo\")\n",
    "else:\n",
    "    print(\"esse numero é negativo\")"
   ]
  },
  {
   "cell_type": "markdown",
   "metadata": {},
   "source": [
    "**6.Faça um Programa que verifique se uma letra digitada é \"F\" ou \"M\". Conforme a letra\n",
    "escrever: F - Feminino, M - Masculino, Sexo Inválido.**"
   ]
  },
  {
   "cell_type": "code",
   "execution_count": 15,
   "metadata": {},
   "outputs": [
    {
     "name": "stdout",
     "output_type": "stream",
     "text": [
      "sexo invalido\n"
     ]
    }
   ],
   "source": [
    "letra = input(\"digite F ou M\")\n",
    "\n",
    "if (letra == 'f'):\n",
    "    print(\"feminino\")\n",
    "elif(letra == 'M'):\n",
    "    print(\"masculino\")\n",
    "else:\n",
    "    print(\"sexo invalido\")"
   ]
  }
 ],
 "metadata": {
  "kernelspec": {
   "display_name": "Python 3.10.8 64-bit (microsoft store)",
   "language": "python",
   "name": "python3"
  },
  "language_info": {
   "codemirror_mode": {
    "name": "ipython",
    "version": 3
   },
   "file_extension": ".py",
   "mimetype": "text/x-python",
   "name": "python",
   "nbconvert_exporter": "python",
   "pygments_lexer": "ipython3",
   "version": "3.10.8"
  },
  "orig_nbformat": 4,
  "vscode": {
   "interpreter": {
    "hash": "ce051e4b39bc50cd980e2252d3ba15f1ddc86077ad13d715fb74dd6a668668e1"
   }
  }
 },
 "nbformat": 4,
 "nbformat_minor": 2
}
